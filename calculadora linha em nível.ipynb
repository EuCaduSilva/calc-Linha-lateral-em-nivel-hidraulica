{
 "cells": [
  {
   "cell_type": "code",
   "execution_count": 210,
   "metadata": {},
   "outputs": [],
   "source": [
    "# Pressão média de trabalho em metros (m)\n",
    "Hm = 20\n",
    "\n",
    "# Espaçamento em metro (m)\n",
    "s = 3.5\n",
    "\n",
    "# diamentro interno do tubo em milímetros (mm)\n",
    "di = 12"
   ]
  },
  {
   "cell_type": "code",
   "execution_count": 211,
   "metadata": {},
   "outputs": [
    {
     "name": "stdout",
     "output_type": "stream",
     "text": [
      "129.85 l/h\n"
     ]
    }
   ],
   "source": [
    "# Expoente de descarga (x) , Equação do emissor e vazão na pressão de trabalho (qm)\n",
    "\n",
    "k = 26.082\n",
    "x = 0.5358 \n",
    "\n",
    "qm = (k * Hm ** x)\n",
    "\n",
    "print(round(qm, 2), ('l/h'))"
   ]
  },
  {
   "cell_type": "code",
   "execution_count": 212,
   "metadata": {},
   "outputs": [
    {
     "name": "stdout",
     "output_type": "stream",
     "text": [
      "3.73 m\n"
     ]
    }
   ],
   "source": [
    "#Perda de carga admissível máxima (10%) em metros(m)\n",
    "\n",
    "hfmax = 0.1 * Hm/x \n",
    "\n",
    "print(round(hfmax, 2), 'm')"
   ]
  },
  {
   "cell_type": "code",
   "execution_count": 213,
   "metadata": {},
   "outputs": [
    {
     "data": {
      "text/plain": [
       "0.364"
      ]
     },
     "execution_count": 213,
     "metadata": {},
     "output_type": "execute_result"
    }
   ],
   "source": [
    "# Fator de correção aproximado -> Tubo de Polietileno liso m = 1.75\n",
    "\n",
    "m = 1.75 \n",
    "Fce = 1 / (m + 1)\n",
    "\n",
    "round(Fce, 3)"
   ]
  },
  {
   "cell_type": "code",
   "execution_count": 214,
   "metadata": {},
   "outputs": [
    {
     "name": "stdout",
     "output_type": "stream",
     "text": [
      "22.6 m\n"
     ]
    }
   ],
   "source": [
    "# Comprimento Máximo teórico\n",
    "\n",
    "L = (( hfmax /(46.5 * 10 ** -2)) * (( s / qm) ** 1.75 )* ((di ** 4.75)/ Fce)) ** (1 / 2.75)\n",
    "\n",
    "print(round(L, 2),'m')"
   ]
  },
  {
   "cell_type": "code",
   "execution_count": 215,
   "metadata": {},
   "outputs": [
    {
     "name": "stdout",
     "output_type": "stream",
     "text": [
      "6 emissores\n",
      "( 6.456231814196414 )\n"
     ]
    }
   ],
   "source": [
    "# Ajuste do espaçamento e número de emissores (n) \n",
    "\n",
    "n = int(L / s)\n",
    "ni = L / s\n",
    "\n",
    "print(n, 'emissores'),\n",
    "print('(', ni, ')')"
   ]
  },
  {
   "cell_type": "code",
   "execution_count": 216,
   "metadata": {},
   "outputs": [
    {
     "name": "stdout",
     "output_type": "stream",
     "text": [
      "21.0 m\n"
     ]
    }
   ],
   "source": [
    "# Comprimento ajustado em metros (m)\n",
    "\n",
    "La = n * s\n",
    "print(La, 'm')"
   ]
  },
  {
   "cell_type": "code",
   "execution_count": 217,
   "metadata": {},
   "outputs": [
    {
     "data": {
      "text/plain": [
       "0.45098"
      ]
     },
     "execution_count": 217,
     "metadata": {},
     "output_type": "execute_result"
    }
   ],
   "source": [
    "# fator de correção Christiansen ajustado\n",
    "\n",
    "Fca =  (1 / (m + 1)) + (1 / (2 * n)) + ((m - 1) ** (1/2))/(6 * n ** 2)\n",
    "round(Fca, 5)"
   ]
  },
  {
   "cell_type": "code",
   "execution_count": 218,
   "metadata": {},
   "outputs": [
    {
     "name": "stdout",
     "output_type": "stream",
     "text": [
      "3.78 m\n"
     ]
    }
   ],
   "source": [
    "# perda de carga contínua para comprimento ajustado no método de Christiansen\n",
    "\n",
    "hfla = 46.5 * 10 ** (-2) * ((qm / s) ** 1.75) * (di ** (-4.75)) * (La ** 2.75 ) * Fca\n",
    "print(round(hfla, 2), 'm')\n"
   ]
  },
  {
   "cell_type": "code",
   "execution_count": 219,
   "metadata": {},
   "outputs": [
    {
     "name": "stdout",
     "output_type": "stream",
     "text": [
      "10.14 %\n"
     ]
    }
   ],
   "source": [
    "# perda de carga estimada\n",
    "p = hfla * x / Hm\n",
    "pp = p * 100\n",
    "print(round(pp,2), '%')"
   ]
  },
  {
   "cell_type": "code",
   "execution_count": 220,
   "metadata": {},
   "outputs": [],
   "source": [
    "# Perda de carga contínua\n",
    "\n"
   ]
  },
  {
   "cell_type": "code",
   "execution_count": 221,
   "metadata": {},
   "outputs": [
    {
     "name": "stdout",
     "output_type": "stream",
     "text": [
      "h0 22.74 m\n",
      "h1 19.0 m\n",
      "k1 1.2173349152750989e-05\n"
     ]
    }
   ],
   "source": [
    "# Step-by-step -> Back Step\n",
    "# passo 1\n",
    "# Pressão máxima por Wu e Gitlin\n",
    "\n",
    "h0 = Hm + ((m + 1)/(m + 2) )* hfmax\n",
    "\n",
    "# pressão no final da linha\n",
    "h1 = h0 - hfmax\n",
    "\n",
    "# cálculo da constante k1\n",
    "\n",
    "k1 = 46.5 * 10 ** (-2) * (di ** (-4.75)) * (s)\n",
    "\n",
    "print('h0',round(h0, 2),'m')\n",
    "print('h1',round(h1, 2),'m')\n",
    "print('k1', k1)"
   ]
  },
  {
   "cell_type": "code",
   "execution_count": 222,
   "metadata": {},
   "outputs": [
    {
     "name": "stdout",
     "output_type": "stream",
     "text": [
      "126.34 l/h\n",
      "126.34 l/h\n",
      "0.058 m\n"
     ]
    },
    {
     "data": {
      "text/plain": [
       "0.057960030810142824"
      ]
     },
     "execution_count": 222,
     "metadata": {},
     "output_type": "execute_result"
    }
   ],
   "source": [
    "# passo 2 n=1 -> q1; Q1; hf1\n",
    "q1 = k * h1 ** x\n",
    "Q1 = q1\n",
    "hf1 = k1 * Q1 ** 1.75\n",
    "\n",
    "print(round(q1, 2), 'l/h')\n",
    "print(round(Q1, 2), 'l/h')\n",
    "print(round(hf1, 3), 'm')\n",
    "hf1\n"
   ]
  },
  {
   "cell_type": "code",
   "execution_count": 223,
   "metadata": {},
   "outputs": [
    {
     "name": "stdout",
     "output_type": "stream",
     "text": [
      "19.06 m\n",
      "126.55 l/h\n",
      "252.89 l/h\n",
      "0.195 m\n"
     ]
    },
    {
     "data": {
      "text/plain": [
       "0.1952321647343722"
      ]
     },
     "execution_count": 223,
     "metadata": {},
     "output_type": "execute_result"
    }
   ],
   "source": [
    "# passo 3 n=2 -> Hn; qn; Qn; hfn\n",
    "h2 = h1 + hf1\n",
    "q2 = k * h2 ** x\n",
    "Q2 = q1 + q2\n",
    "hf2 = k1 * Q2 ** 1.75\n",
    "\n",
    "print(round(h2, 2), 'm')\n",
    "print(round(q2, 2), 'l/h')\n",
    "print(round(Q2, 2), 'l/h')\n",
    "print(round(hf2, 3), 'm')\n",
    "hf2"
   ]
  },
  {
   "cell_type": "code",
   "execution_count": 224,
   "metadata": {},
   "outputs": [
    {
     "name": "stdout",
     "output_type": "stream",
     "text": [
      "19.26 m\n",
      "127.24 l/h\n",
      "380.14 l/h\n",
      "0.398 m\n"
     ]
    },
    {
     "data": {
      "text/plain": [
       "0.3983860356072942"
      ]
     },
     "execution_count": 224,
     "metadata": {},
     "output_type": "execute_result"
    }
   ],
   "source": [
    "# passo 4 n=3 -> Hn; qn; Qn; hfn\n",
    "h3 = h2 + hf2\n",
    "q3 = k * h3 ** x\n",
    "Q3 = Q2 + q3\n",
    "hf3 = k1 * Q3 ** 1.75\n",
    "\n",
    "print(round(h3, 2), 'm')\n",
    "print(round(q3, 2), 'l/h')\n",
    "print(round(Q3, 2), 'l/h')\n",
    "print(round(hf3, 3), 'm')\n",
    "hf3"
   ]
  },
  {
   "cell_type": "code",
   "execution_count": 225,
   "metadata": {},
   "outputs": [
    {
     "name": "stdout",
     "output_type": "stream",
     "text": [
      "19.66 m\n",
      "128.65 l/h\n",
      "508.78 l/h\n",
      "0.664 m\n"
     ]
    },
    {
     "data": {
      "text/plain": [
       "0.6635014023597422"
      ]
     },
     "execution_count": 225,
     "metadata": {},
     "output_type": "execute_result"
    }
   ],
   "source": [
    "# passo 5 n=4 -> Hn; qn; Qn; hfn\n",
    "h4 = h3 + hf3\n",
    "q4 = k * h4 ** x\n",
    "Q4 = Q3 + q4\n",
    "hf4 = k1 * Q4 ** 1.75\n",
    "\n",
    "print(round(h4, 2), 'm')\n",
    "print(round(q4, 2), 'l/h')\n",
    "print(round(Q4, 2), 'l/h')\n",
    "print(round(hf4, 3), 'm')\n",
    "hf4"
   ]
  },
  {
   "cell_type": "code",
   "execution_count": 226,
   "metadata": {},
   "outputs": [
    {
     "name": "stdout",
     "output_type": "stream",
     "text": [
      "20.32 m\n",
      "130.96 l/h\n",
      "639.74 l/h\n",
      "0.991 m\n"
     ]
    },
    {
     "data": {
      "text/plain": [
       "0.9906354718051166"
      ]
     },
     "execution_count": 226,
     "metadata": {},
     "output_type": "execute_result"
    }
   ],
   "source": [
    "# passo 6 n=5 -> Hn; qn; Qn; hfn\n",
    "h5 = h4 + hf4\n",
    "q5 = k * h5 ** x\n",
    "Q5 = Q4 + q5\n",
    "hf5 = k1 * Q5 ** 1.75\n",
    "\n",
    "print(round(h5, 2), 'm')\n",
    "print(round(q5, 2), 'l/h')\n",
    "print(round(Q5, 2), 'l/h')\n",
    "print(round(hf5, 3), 'm')\n",
    "hf5"
   ]
  },
  {
   "cell_type": "code",
   "execution_count": 227,
   "metadata": {},
   "outputs": [
    {
     "name": "stdout",
     "output_type": "stream",
     "text": [
      "21.31 m\n",
      "134.34 l/h\n",
      "774.08 l/h\n",
      "1.383 m\n"
     ]
    },
    {
     "data": {
      "text/plain": [
       "1.382870674265557"
      ]
     },
     "execution_count": 227,
     "metadata": {},
     "output_type": "execute_result"
    }
   ],
   "source": [
    "# passo 7 n=6 -> Hn; qn; Qn; hfn\n",
    "h6 = h5 + hf5\n",
    "q6 = k * h6 ** x\n",
    "Q6 = Q5 + q6\n",
    "hf6 = k1 * Q6 ** 1.75\n",
    "\n",
    "print(round(h6, 2), 'm')\n",
    "print(round(q6, 2), 'l/h')\n",
    "print(round(Q6, 2), 'l/h')\n",
    "print(round(hf6, 3), 'm')\n",
    "hf6"
   ]
  },
  {
   "cell_type": "code",
   "execution_count": 228,
   "metadata": {},
   "outputs": [
    {
     "data": {
      "text/plain": [
       "22.693189487433415"
      ]
     },
     "execution_count": 228,
     "metadata": {},
     "output_type": "execute_result"
    }
   ],
   "source": [
    "#Pressão máxima na cabeçeira da linha\n",
    "\n",
    "h7 = h6 + hf6\n",
    "Hcab = h7\n",
    "Hcab"
   ]
  },
  {
   "cell_type": "code",
   "execution_count": 229,
   "metadata": {},
   "outputs": [
    {
     "name": "stdout",
     "output_type": "stream",
     "text": [
      "3.689 m\n"
     ]
    }
   ],
   "source": [
    "# Perda de carga real\n",
    "\n",
    "hfcont = [hf1, hf2, hf3, hf4, hf5, hf6]\n",
    "hfreal = sum(hfcont)\n",
    "print(round(hfreal, 3), 'm')"
   ]
  },
  {
   "cell_type": "code",
   "execution_count": 230,
   "metadata": {},
   "outputs": [
    {
     "name": "stdout",
     "output_type": "stream",
     "text": [
      "97 %\n"
     ]
    }
   ],
   "source": [
    "import numpy as np\n",
    "\n",
    "# coeficiente de uniformidade\n",
    "\n",
    "vz = [q1, q2, q3, q4, q5, q6]\n",
    "desvio_padrao = np.std(vz)\n",
    "dq = desvio_padrao\n",
    "qtm = sum(vz) / len(vz)\n",
    "\n",
    "cv = dq / qtm\n",
    "cue = (1 - cv) * 100\n",
    "\n",
    "print(int(cue),'%')"
   ]
  },
  {
   "cell_type": "code",
   "execution_count": 231,
   "metadata": {},
   "outputs": [
    {
     "name": "stdout",
     "output_type": "stream",
     "text": [
      "0.248 m\n",
      "1.071\n"
     ]
    }
   ],
   "source": [
    "# Parte 2 - Cálculo pelo método dos comprimentos equivalentes \n",
    "# Le > 0 \n",
    "# leva em consideração a obstrução causada pelos conectores à linha lateral\n",
    "\n",
    "le = 24.03 * (di) ** ( -1.84)\n",
    "lam = 1 + (le / s)\n",
    "\n",
    "print(round(le, 3), 'm')\n",
    "print(round(lam, 3))"
   ]
  },
  {
   "cell_type": "code",
   "execution_count": 232,
   "metadata": {},
   "outputs": [
    {
     "data": {
      "text/plain": [
       "4.052859754629988"
      ]
     },
     "execution_count": 232,
     "metadata": {},
     "output_type": "execute_result"
    }
   ],
   "source": [
    "# Perda de carga pelo comprimento equivalente\n",
    "\n",
    "hflam = 46.5 * 10 ** (-2) * ((qm / s) ** 1.75) * (di ** (-4.75)) * (La ** 2.75 ) * Fca * lam\n",
    "hflam\n"
   ]
  },
  {
   "cell_type": "code",
   "execution_count": 233,
   "metadata": {},
   "outputs": [
    {
     "name": "stdout",
     "output_type": "stream",
     "text": [
      "k2 1.303712749813559e-05\n"
     ]
    }
   ],
   "source": [
    "# Step-by-step 2 -> Back Step\n",
    "# passo 1\n",
    "\n",
    "# cálculo da constante k1\n",
    "\n",
    "k2 = 46.5 * 10 ** (-2) * (di ** (-4.75)) * (s + le)\n",
    "\n",
    "print('k2', k2)"
   ]
  },
  {
   "cell_type": "code",
   "execution_count": 234,
   "metadata": {},
   "outputs": [
    {
     "name": "stdout",
     "output_type": "stream",
     "text": [
      "126.34 l/h\n",
      "126.34 l/h\n",
      "0.062 m\n"
     ]
    }
   ],
   "source": [
    "# passo 2 n=1 -> q1; Q1; hf1\n",
    "q21 = k * h1 ** x\n",
    "Q21 = q21\n",
    "hf21 = k2 * Q21 ** 1.75\n",
    "\n",
    "print(round(q21, 2), 'l/h')\n",
    "print(round(Q21, 2), 'l/h')\n",
    "print(round(hf21, 3), 'm')\n"
   ]
  },
  {
   "cell_type": "code",
   "execution_count": 235,
   "metadata": {},
   "outputs": [
    {
     "name": "stdout",
     "output_type": "stream",
     "text": [
      "19.07 m\n",
      "126.56 l/h\n",
      "252.91 l/h\n",
      "0.209 m\n"
     ]
    },
    {
     "data": {
      "text/plain": [
       "0.20910632223092723"
      ]
     },
     "execution_count": 235,
     "metadata": {},
     "output_type": "execute_result"
    }
   ],
   "source": [
    "# passo 3 n=2 -> Hn; qn; Qn; hfn\n",
    "h22 = h1 + hf21\n",
    "q22 = k * h22 ** x\n",
    "Q22 = q21 + q22\n",
    "hf22 = k2 * Q22 ** 1.75\n",
    "\n",
    "print(round(h22, 2), 'm')\n",
    "print(round(q22, 2), 'l/h')\n",
    "print(round(Q22, 2), 'l/h')\n",
    "print(round(hf22, 3), 'm')\n",
    "hf22"
   ]
  },
  {
   "cell_type": "code",
   "execution_count": 236,
   "metadata": {},
   "outputs": [
    {
     "name": "stdout",
     "output_type": "stream",
     "text": [
      "19.2758 m\n",
      "127.3064 l/h\n",
      "380.2147 l/h\n",
      "0.4268 m\n"
     ]
    },
    {
     "data": {
      "text/plain": [
       "0.4268079049824973"
      ]
     },
     "execution_count": 236,
     "metadata": {},
     "output_type": "execute_result"
    }
   ],
   "source": [
    "# passo 4 n=3 -> Hn; qn; Qn; hfn\n",
    "h23 = h22 + hf22\n",
    "q23 = k * h23 ** x\n",
    "Q23 = Q22 + q23\n",
    "hf23 = k2 * Q23 ** 1.75\n",
    "\n",
    "print(round(h23, 4), 'm')\n",
    "print(round(q23, 4), 'l/h')\n",
    "print(round(Q23, 4), 'l/h')\n",
    "print(round(hf23, 4), 'm')\n",
    "hf23"
   ]
  },
  {
   "cell_type": "code",
   "execution_count": 237,
   "metadata": {},
   "outputs": [
    {
     "name": "stdout",
     "output_type": "stream",
     "text": [
      "19.7026 m\n",
      "128.8091 l/h\n",
      "509.0238 l/h\n",
      "0.7112 m\n"
     ]
    },
    {
     "data": {
      "text/plain": [
       "0.711170142068092"
      ]
     },
     "execution_count": 237,
     "metadata": {},
     "output_type": "execute_result"
    }
   ],
   "source": [
    "# passo 5 n=4 -> Hn; qn; Qn; hfn\n",
    "h24 = h23 + hf23\n",
    "q24 = k * h24 ** x\n",
    "Q24 = Q23 + q24\n",
    "hf24 = k2 * Q24 ** 1.75\n",
    "\n",
    "print(round(h24, 4), 'm')\n",
    "print(round(q24, 4), 'l/h')\n",
    "print(round(Q24, 4), 'l/h')\n",
    "print(round(hf24, 4), 'm')\n",
    "hf24"
   ]
  },
  {
   "cell_type": "code",
   "execution_count": 238,
   "metadata": {},
   "outputs": [
    {
     "name": "stdout",
     "output_type": "stream",
     "text": [
      "20.4138 m\n",
      "131.2797 l/h\n",
      "640.3035 l/h\n",
      "1.0626 m\n"
     ]
    },
    {
     "data": {
      "text/plain": [
       "1.0625690892542163"
      ]
     },
     "execution_count": 238,
     "metadata": {},
     "output_type": "execute_result"
    }
   ],
   "source": [
    "# passo 6 n=5 -> Hn; qn; Qn; hfn\n",
    "h25 = h24 + hf24\n",
    "q25 = k * h25 ** x\n",
    "Q25 = Q24 + q25\n",
    "hf25 = k2 * Q25 ** 1.75\n",
    "\n",
    "print(round(h25, 4), 'm')\n",
    "print(round(q25, 4), 'l/h')\n",
    "print(round(Q25, 4), 'l/h')\n",
    "print(round(hf25, 4), 'm')\n",
    "hf25"
   ]
  },
  {
   "cell_type": "code",
   "execution_count": 239,
   "metadata": {},
   "outputs": [
    {
     "name": "stdout",
     "output_type": "stream",
     "text": [
      "21.4763 m\n",
      "134.8979 l/h\n",
      "775.2014 l/h\n",
      "1.4848 m\n"
     ]
    },
    {
     "data": {
      "text/plain": [
       "1.4847636580977226"
      ]
     },
     "execution_count": 239,
     "metadata": {},
     "output_type": "execute_result"
    }
   ],
   "source": [
    "# passo 7 n=6 -> Hn; qn; Qn; hfn\n",
    "h26 = h25 + hf25\n",
    "q26 = k * h26 ** x\n",
    "Q26 = Q25 + q26\n",
    "hf26 = k2 * Q26 ** 1.75\n",
    "\n",
    "print(round(h26, 4), 'm')\n",
    "print(round(q26, 4), 'l/h')\n",
    "print(round(Q26, 4), 'l/h')\n",
    "print(round(hf26, 4), 'm')\n",
    "hf26"
   ]
  },
  {
   "cell_type": "code",
   "execution_count": 240,
   "metadata": {},
   "outputs": [
    {
     "data": {
      "text/plain": [
       "22.961093496679123"
      ]
     },
     "execution_count": 240,
     "metadata": {},
     "output_type": "execute_result"
    }
   ],
   "source": [
    "#Pressão máxima na cabeçeira da linha\n",
    "\n",
    "h27 = h26 + hf26\n",
    "Hcab_le = h27\n",
    "Hcab_le"
   ]
  },
  {
   "cell_type": "code",
   "execution_count": 241,
   "metadata": {},
   "outputs": [
    {
     "name": "stdout",
     "output_type": "stream",
     "text": [
      "3.9565 m\n"
     ]
    }
   ],
   "source": [
    "# Perda de carga real\n",
    "\n",
    "hfcont_le = [hf21, hf22, hf23, hf24, hf25, hf26]\n",
    "hfreal_le = sum(hfcont_le)\n",
    "print(round(hfreal_le, 4), 'm')"
   ]
  },
  {
   "cell_type": "code",
   "execution_count": 242,
   "metadata": {},
   "outputs": [
    {
     "name": "stdout",
     "output_type": "stream",
     "text": [
      "97 %\n"
     ]
    }
   ],
   "source": [
    "# coeficiente de uniformidade\n",
    "\n",
    "vz_le = [q21, q22, q23, q24, q25, q26]\n",
    "desvio_padrao_le = np.std(vz_le)\n",
    "dq_le = desvio_padrao_le\n",
    "qtm_le = sum(vz_le) / len(vz_le)\n",
    "\n",
    "cv_le = dq_le / qtm_le\n",
    "cue_le = (1 - cv_le) * 100\n",
    "\n",
    "print(int(cue_le),'%')"
   ]
  },
  {
   "cell_type": "code",
   "execution_count": 243,
   "metadata": {},
   "outputs": [
    {
     "name": "stdout",
     "output_type": "stream",
     "text": [
      "RESULTADO DAS SIMULAÇÕES (Le = 0)\n",
      "Pressão máxima por Wu e Gitlin (Ho) = 22.7373\n",
      "Pressão máxima na cabeceira de linha (hcab) = 22.6932\n",
      "Comprimento máximo da linha lateral (L) = 22.5968\n",
      "Comprimento máximo da linha lateral ajustada (La) = 21.0\n",
      "Número de emissores método algébrico (n) = 6\n",
      "Fator F de Christiansen ajustado (Fca)= 0.451\n",
      "Perda de carga máxima admissível (hfmax)= 3.733\n",
      "Perda de carga ajustada método de Christiansen (hfla)) = 3.7843\n",
      "Perda de carga real (hfreal) = 3.6886\n"
     ]
    },
    {
     "data": {
      "text/html": [
       "<div>\n",
       "<style scoped>\n",
       "    .dataframe tbody tr th:only-of-type {\n",
       "        vertical-align: middle;\n",
       "    }\n",
       "\n",
       "    .dataframe tbody tr th {\n",
       "        vertical-align: top;\n",
       "    }\n",
       "\n",
       "    .dataframe thead th {\n",
       "        text-align: right;\n",
       "    }\n",
       "</style>\n",
       "<table border=\"1\" class=\"dataframe\">\n",
       "  <thead>\n",
       "    <tr style=\"text-align: right;\">\n",
       "      <th></th>\n",
       "      <th>H</th>\n",
       "      <th>q</th>\n",
       "      <th>hftotal</th>\n",
       "    </tr>\n",
       "  </thead>\n",
       "  <tbody>\n",
       "    <tr>\n",
       "      <th>6</th>\n",
       "      <td>19.004604</td>\n",
       "      <td>126.343658</td>\n",
       "      <td>0.057960</td>\n",
       "    </tr>\n",
       "    <tr>\n",
       "      <th>5</th>\n",
       "      <td>19.062564</td>\n",
       "      <td>126.549967</td>\n",
       "      <td>0.195232</td>\n",
       "    </tr>\n",
       "    <tr>\n",
       "      <th>4</th>\n",
       "      <td>19.257796</td>\n",
       "      <td>127.242764</td>\n",
       "      <td>0.398386</td>\n",
       "    </tr>\n",
       "    <tr>\n",
       "      <th>3</th>\n",
       "      <td>19.656182</td>\n",
       "      <td>128.646431</td>\n",
       "      <td>0.663501</td>\n",
       "    </tr>\n",
       "    <tr>\n",
       "      <th>2</th>\n",
       "      <td>20.319683</td>\n",
       "      <td>130.955211</td>\n",
       "      <td>0.990635</td>\n",
       "    </tr>\n",
       "    <tr>\n",
       "      <th>1</th>\n",
       "      <td>21.310319</td>\n",
       "      <td>134.338156</td>\n",
       "      <td>1.382871</td>\n",
       "    </tr>\n",
       "  </tbody>\n",
       "</table>\n",
       "</div>"
      ],
      "text/plain": [
       "           H           q   hftotal\n",
       "6  19.004604  126.343658  0.057960\n",
       "5  19.062564  126.549967  0.195232\n",
       "4  19.257796  127.242764  0.398386\n",
       "3  19.656182  128.646431  0.663501\n",
       "2  20.319683  130.955211  0.990635\n",
       "1  21.310319  134.338156  1.382871"
      ]
     },
     "execution_count": 243,
     "metadata": {},
     "output_type": "execute_result"
    }
   ],
   "source": [
    "# Lista de resultados\n",
    "\n",
    "import pandas as pd\n",
    "ind = [6, 5, 4, 3, 2, 1]\n",
    "col = ['H', 'q', 'hftotal']\n",
    "dat = [[h1, q1, hf1], [h2, q2, hf2], [h3, q3, hf3], [h4, q4, hf4], [h5, q5, hf5], [h6, q6, hf6]]\n",
    "df = pd.DataFrame(data = dat, index = ind, columns=col)\n",
    "\n",
    "\n",
    "print('RESULTADO DAS SIMULAÇÕES (Le = 0)')\n",
    "print('Pressão máxima por Wu e Gitlin (Ho) =', round(h0, 4))\n",
    "print('Pressão máxima na cabeceira de linha (hcab) =', round(Hcab, 4))\n",
    "print('Comprimento máximo da linha lateral (L) =', round(L, 4))\n",
    "print('Comprimento máximo da linha lateral ajustada (La) =', La)\n",
    "print('Número de emissores método algébrico (n) =', round(n, 1))\n",
    "print('Fator F de Christiansen ajustado (Fca)=', round(Fca, 4))\n",
    "print('Perda de carga máxima admissível (hfmax)=', round(hfmax, 3))\n",
    "print('Perda de carga ajustada método de Christiansen (hfla)) =', round(hfla, 4))\n",
    "print('Perda de carga real (hfreal) =', round(hfreal, 4))\n",
    "df\n"
   ]
  },
  {
   "cell_type": "code",
   "execution_count": 247,
   "metadata": {},
   "outputs": [
    {
     "name": "stdout",
     "output_type": "stream",
     "text": [
      "RESULTADO DAS SIMULAÇÕES (Le > 0)\n",
      "Pressão máxima por Wu e Gitlin (Ho) = 22.7373\n",
      "Pressão máxima na cabeceira de linha (hcab) = 22.9611\n",
      "Comprimento máximo da linha lateral (L) = 22.5968\n",
      "Comprimento máximo da linha lateral ajustada (La) = 21.0\n",
      "Número de emissores método algébrico (n) = 6\n",
      "Fator F de Christiansen ajustado (Fca)= 0.451\n",
      "Perda de carga máxima admissível (hfmax)= 3.733\n",
      "Perda de carga ajustada método do comprimento equivalente (hflam)) = 4.0529\n",
      "Perda de carga real (hfreal) = 3.9565\n"
     ]
    },
    {
     "data": {
      "text/html": [
       "<div>\n",
       "<style scoped>\n",
       "    .dataframe tbody tr th:only-of-type {\n",
       "        vertical-align: middle;\n",
       "    }\n",
       "\n",
       "    .dataframe tbody tr th {\n",
       "        vertical-align: top;\n",
       "    }\n",
       "\n",
       "    .dataframe thead th {\n",
       "        text-align: right;\n",
       "    }\n",
       "</style>\n",
       "<table border=\"1\" class=\"dataframe\">\n",
       "  <thead>\n",
       "    <tr style=\"text-align: right;\">\n",
       "      <th></th>\n",
       "      <th>H</th>\n",
       "      <th>q</th>\n",
       "      <th>hftotal</th>\n",
       "    </tr>\n",
       "  </thead>\n",
       "  <tbody>\n",
       "    <tr>\n",
       "      <th>6</th>\n",
       "      <td>19.004604</td>\n",
       "      <td>126.343658</td>\n",
       "      <td>0.062073</td>\n",
       "    </tr>\n",
       "    <tr>\n",
       "      <th>5</th>\n",
       "      <td>19.066676</td>\n",
       "      <td>126.564595</td>\n",
       "      <td>0.209106</td>\n",
       "    </tr>\n",
       "    <tr>\n",
       "      <th>4</th>\n",
       "      <td>19.275783</td>\n",
       "      <td>127.306428</td>\n",
       "      <td>0.426808</td>\n",
       "    </tr>\n",
       "    <tr>\n",
       "      <th>3</th>\n",
       "      <td>19.702591</td>\n",
       "      <td>128.809084</td>\n",
       "      <td>0.711170</td>\n",
       "    </tr>\n",
       "    <tr>\n",
       "      <th>2</th>\n",
       "      <td>20.413761</td>\n",
       "      <td>131.279721</td>\n",
       "      <td>1.062569</td>\n",
       "    </tr>\n",
       "    <tr>\n",
       "      <th>1</th>\n",
       "      <td>21.476330</td>\n",
       "      <td>134.897870</td>\n",
       "      <td>1.484764</td>\n",
       "    </tr>\n",
       "  </tbody>\n",
       "</table>\n",
       "</div>"
      ],
      "text/plain": [
       "           H           q   hftotal\n",
       "6  19.004604  126.343658  0.062073\n",
       "5  19.066676  126.564595  0.209106\n",
       "4  19.275783  127.306428  0.426808\n",
       "3  19.702591  128.809084  0.711170\n",
       "2  20.413761  131.279721  1.062569\n",
       "1  21.476330  134.897870  1.484764"
      ]
     },
     "execution_count": 247,
     "metadata": {},
     "output_type": "execute_result"
    }
   ],
   "source": [
    "# Lista de resultados\n",
    "\n",
    "import pandas as pd\n",
    "ind = [6, 5, 4, 3, 2, 1]\n",
    "col = ['H', 'q', 'hftotal']\n",
    "dat = [[h1, q21, hf21], [h22, q22, hf22], [h23, q23, hf23], [h24, q24, hf24], [h25, q25, hf25], [h26, q26, hf26]]\n",
    "df = pd.DataFrame(data = dat, index = ind, columns=col)\n",
    "\n",
    "\n",
    "print('RESULTADO DAS SIMULAÇÕES (Le > 0)')\n",
    "print('Pressão máxima por Wu e Gitlin (Ho) =', round(h0, 4))\n",
    "print('Pressão máxima na cabeceira de linha (hcab) =', round(Hcab_le, 4))\n",
    "print('Comprimento máximo da linha lateral (L) =', round(L, 4))\n",
    "print('Comprimento máximo da linha lateral ajustada (La) =', La)\n",
    "print('Número de emissores método algébrico (n) =', round(n, 1))\n",
    "print('Fator F de Christiansen ajustado (Fca)=', round(Fca, 4))\n",
    "print('Perda de carga máxima admissível (hfmax)=', round(hfmax, 3))\n",
    "print('Perda de carga ajustada método do comprimento equivalente (hflam)) =', round(hflam, 4))\n",
    "print('Perda de carga real (hfreal) =', round(hfreal_le, 4))\n",
    "df\n"
   ]
  }
 ],
 "metadata": {
  "kernelspec": {
   "display_name": "Python 3",
   "language": "python",
   "name": "python3"
  },
  "language_info": {
   "codemirror_mode": {
    "name": "ipython",
    "version": 3
   },
   "file_extension": ".py",
   "mimetype": "text/x-python",
   "name": "python",
   "nbconvert_exporter": "python",
   "pygments_lexer": "ipython3",
   "version": "3.12.4"
  }
 },
 "nbformat": 4,
 "nbformat_minor": 2
}
