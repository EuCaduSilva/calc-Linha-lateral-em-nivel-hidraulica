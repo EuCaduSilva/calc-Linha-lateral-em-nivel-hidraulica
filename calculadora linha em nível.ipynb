{
 "cells": [
  {
   "cell_type": "code",
   "execution_count": 124,
   "metadata": {},
   "outputs": [],
   "source": [
    "# Pressão média de trabalho em metros (m)\n",
    "Hm = 20\n",
    "\n",
    "# Espaçamento em metro (m)\n",
    "s = 3.5\n",
    "\n",
    "# diamentro interno do tubo em milímetros (mm)\n",
    "di = 12"
   ]
  },
  {
   "cell_type": "code",
   "execution_count": 125,
   "metadata": {},
   "outputs": [
    {
     "name": "stdout",
     "output_type": "stream",
     "text": [
      "129.85 l/h\n"
     ]
    }
   ],
   "source": [
    "# Expoente de descarga (x) , Equação do emissor e vazão na pressão de trabalho (qm)\n",
    "\n",
    "k = 26.082\n",
    "x = 0.5358 \n",
    "\n",
    "qm = (k * Hm ** x)\n",
    "\n",
    "print(round(qm, 2), ('l/h'))"
   ]
  },
  {
   "cell_type": "code",
   "execution_count": 126,
   "metadata": {},
   "outputs": [
    {
     "name": "stdout",
     "output_type": "stream",
     "text": [
      "3.73 m\n"
     ]
    }
   ],
   "source": [
    "#Perda de carga admissível máxima (10%) em metros(m)\n",
    "\n",
    "hfmax = 0.1 * Hm/x \n",
    "\n",
    "print(round(hfmax, 2), 'm')"
   ]
  },
  {
   "cell_type": "code",
   "execution_count": 127,
   "metadata": {},
   "outputs": [
    {
     "data": {
      "text/plain": [
       "0.364"
      ]
     },
     "execution_count": 127,
     "metadata": {},
     "output_type": "execute_result"
    }
   ],
   "source": [
    "# Fator de correção aproximado -> Tubo de Polietileno liso m = 1.75\n",
    "\n",
    "m = 1.75 \n",
    "Fce = 1 / (m + 1)\n",
    "\n",
    "round(Fce, 3)"
   ]
  },
  {
   "cell_type": "code",
   "execution_count": 128,
   "metadata": {},
   "outputs": [
    {
     "name": "stdout",
     "output_type": "stream",
     "text": [
      "22.6 m\n"
     ]
    }
   ],
   "source": [
    "# Comprimento Máximo teórico\n",
    "\n",
    "L = (( hfmax /(46.5 * 10 ** -2)) * (( s / qm) ** 1.75 )* ((di ** 4.75)/ Fce)) ** (1 / 2.75)\n",
    "\n",
    "print(round(L, 2),'m')"
   ]
  },
  {
   "cell_type": "code",
   "execution_count": 129,
   "metadata": {},
   "outputs": [
    {
     "name": "stdout",
     "output_type": "stream",
     "text": [
      "6 emissores\n",
      "( 6.456231814196414 )\n"
     ]
    }
   ],
   "source": [
    "# Ajuste do espaçamento e número de emissores (n) \n",
    "\n",
    "n = int(L / s)\n",
    "ni = L / s\n",
    "\n",
    "print(n, 'emissores'),\n",
    "print('(', ni, ')')"
   ]
  },
  {
   "cell_type": "code",
   "execution_count": 130,
   "metadata": {},
   "outputs": [
    {
     "name": "stdout",
     "output_type": "stream",
     "text": [
      "21.0 m\n"
     ]
    }
   ],
   "source": [
    "# Comprimento ajustado em metros (m)\n",
    "\n",
    "La = n * s\n",
    "print(La, 'm')"
   ]
  },
  {
   "cell_type": "code",
   "execution_count": 157,
   "metadata": {},
   "outputs": [
    {
     "data": {
      "text/plain": [
       "0.45098"
      ]
     },
     "execution_count": 157,
     "metadata": {},
     "output_type": "execute_result"
    }
   ],
   "source": [
    "# fator de correção Christiansen ajustado\n",
    "\n",
    "Fca =  (1 / (m + 1)) + (1 / (2 * n)) + ((m - 1) ** (1/2))/(6 * n ** 2)\n",
    "round(Fca, 5)"
   ]
  },
  {
   "cell_type": "code",
   "execution_count": 158,
   "metadata": {},
   "outputs": [
    {
     "name": "stdout",
     "output_type": "stream",
     "text": [
      "3.78 m\n"
     ]
    }
   ],
   "source": [
    "# perda de carga para comprimento ajustado no método de Christiansen\n",
    "\n",
    "hfla = 46.5 * 10 ** (-2) * ((qm / s) ** 1.75) * (di ** (-4.75)) * (La ** 2.75 ) * Fca\n",
    "print(round(hfla, 2), 'm')\n"
   ]
  },
  {
   "cell_type": "code",
   "execution_count": 159,
   "metadata": {},
   "outputs": [
    {
     "name": "stdout",
     "output_type": "stream",
     "text": [
      "10.14 %\n"
     ]
    }
   ],
   "source": [
    "# perda de carga localizada\n",
    "p = hfla * x / Hm\n",
    "pp = p * 100\n",
    "print(round(pp,2), '%')"
   ]
  },
  {
   "cell_type": "code",
   "execution_count": 174,
   "metadata": {},
   "outputs": [
    {
     "data": {
      "text/plain": [
       "0.11916992032725982"
      ]
     },
     "execution_count": 174,
     "metadata": {},
     "output_type": "execute_result"
    }
   ],
   "source": [
    "# Perda de carga contínua\n",
    "\n"
   ]
  },
  {
   "cell_type": "code",
   "execution_count": 161,
   "metadata": {},
   "outputs": [
    {
     "name": "stdout",
     "output_type": "stream",
     "text": [
      "h0 22.74 m\n",
      "h1 19.0 m\n",
      "k1 1.2173349152750989e-05\n"
     ]
    }
   ],
   "source": [
    "# Step-by-step -> Back Step\n",
    "# passo 1\n",
    "# Pressão máxima por Wu e Gitlin\n",
    "\n",
    "h0 = Hm + ((m + 1)/(m + 2) * hfmax)\n",
    "\n",
    "# pressão no final da linha\n",
    "h1 = h0 - hfmax\n",
    "\n",
    "# cálculo da constante k1\n",
    "\n",
    "k1 = 46.5 * 10 ** (-2) * (di ** (-4.75)) * (s)\n",
    "\n",
    "print('h0',round(h0, 2),'m')\n",
    "print('h1',round(h1, 2),'m')\n",
    "print('k1', k1)"
   ]
  },
  {
   "cell_type": "code",
   "execution_count": 162,
   "metadata": {},
   "outputs": [
    {
     "name": "stdout",
     "output_type": "stream",
     "text": [
      "126.34 l/h\n",
      "126.34 l/h\n",
      "0.058 m\n"
     ]
    },
    {
     "data": {
      "text/plain": [
       "0.057960030810142824"
      ]
     },
     "execution_count": 162,
     "metadata": {},
     "output_type": "execute_result"
    }
   ],
   "source": [
    "# passo 2 n=1 -> q1; Q1; hf1\n",
    "q1 = k * h1 ** x\n",
    "Q1 = q1\n",
    "hf1 = k1 * Q1 ** 1.75\n",
    "\n",
    "print(round(q1, 2), 'l/h')\n",
    "print(round(Q1, 2), 'l/h')\n",
    "print(round(hf1, 3), 'm')\n",
    "hf1\n"
   ]
  },
  {
   "cell_type": "code",
   "execution_count": 163,
   "metadata": {},
   "outputs": [
    {
     "name": "stdout",
     "output_type": "stream",
     "text": [
      "19.06 m\n",
      "126.55 l/h\n",
      "252.89 l/h\n",
      "0.195 m\n"
     ]
    },
    {
     "data": {
      "text/plain": [
       "0.1952321647343722"
      ]
     },
     "execution_count": 163,
     "metadata": {},
     "output_type": "execute_result"
    }
   ],
   "source": [
    "# passo 3 n=2 -> Hn; qn; Qn; hfn\n",
    "h2 = h1 + hf1\n",
    "q2 = k * h2 ** x\n",
    "Q2 = q1 + q2\n",
    "hf2 = k1 * Q2 ** 1.75\n",
    "\n",
    "print(round(h2, 2), 'm')\n",
    "print(round(q2, 2), 'l/h')\n",
    "print(round(Q2, 2), 'l/h')\n",
    "print(round(hf2, 3), 'm')\n",
    "hf2"
   ]
  },
  {
   "cell_type": "code",
   "execution_count": 164,
   "metadata": {},
   "outputs": [
    {
     "name": "stdout",
     "output_type": "stream",
     "text": [
      "19.26 m\n",
      "127.24 l/h\n",
      "380.14 l/h\n",
      "0.398 m\n"
     ]
    },
    {
     "data": {
      "text/plain": [
       "0.3983860356072942"
      ]
     },
     "execution_count": 164,
     "metadata": {},
     "output_type": "execute_result"
    }
   ],
   "source": [
    "# passo 4 n=3 -> Hn; qn; Qn; hfn\n",
    "h3 = h2 + hf2\n",
    "q3 = k * h3 ** x\n",
    "Q3 = Q2 + q3\n",
    "hf3 = k1 * Q3 ** 1.75\n",
    "\n",
    "print(round(h3, 2), 'm')\n",
    "print(round(q3, 2), 'l/h')\n",
    "print(round(Q3, 2), 'l/h')\n",
    "print(round(hf3, 3), 'm')\n",
    "hf3"
   ]
  },
  {
   "cell_type": "code",
   "execution_count": 165,
   "metadata": {},
   "outputs": [
    {
     "name": "stdout",
     "output_type": "stream",
     "text": [
      "19.66 m\n",
      "128.65 l/h\n",
      "508.78 l/h\n",
      "0.664 m\n"
     ]
    },
    {
     "data": {
      "text/plain": [
       "0.6635014023597422"
      ]
     },
     "execution_count": 165,
     "metadata": {},
     "output_type": "execute_result"
    }
   ],
   "source": [
    "# passo 5 n=4 -> Hn; qn; Qn; hfn\n",
    "h4 = h3 + hf3\n",
    "q4 = k * h4 ** x\n",
    "Q4 = Q3 + q4\n",
    "hf4 = k1 * Q4 ** 1.75\n",
    "\n",
    "print(round(h4, 2), 'm')\n",
    "print(round(q4, 2), 'l/h')\n",
    "print(round(Q4, 2), 'l/h')\n",
    "print(round(hf4, 3), 'm')\n",
    "hf4"
   ]
  },
  {
   "cell_type": "code",
   "execution_count": 166,
   "metadata": {},
   "outputs": [
    {
     "name": "stdout",
     "output_type": "stream",
     "text": [
      "20.32 m\n",
      "130.96 l/h\n",
      "639.74 l/h\n",
      "0.991 m\n"
     ]
    },
    {
     "data": {
      "text/plain": [
       "0.9906354718051166"
      ]
     },
     "execution_count": 166,
     "metadata": {},
     "output_type": "execute_result"
    }
   ],
   "source": [
    "# passo 6 n=5 -> Hn; qn; Qn; hfn\n",
    "h5 = h4 + hf4\n",
    "q5 = k * h5 ** x\n",
    "Q5 = Q4 + q5\n",
    "hf5 = k1 * Q5 ** 1.75\n",
    "\n",
    "print(round(h5, 2), 'm')\n",
    "print(round(q5, 2), 'l/h')\n",
    "print(round(Q5, 2), 'l/h')\n",
    "print(round(hf5, 3), 'm')\n",
    "hf5"
   ]
  },
  {
   "cell_type": "code",
   "execution_count": 167,
   "metadata": {},
   "outputs": [
    {
     "name": "stdout",
     "output_type": "stream",
     "text": [
      "21.31 m\n",
      "134.34 l/h\n",
      "774.08 l/h\n",
      "1.383 m\n"
     ]
    },
    {
     "data": {
      "text/plain": [
       "1.382870674265557"
      ]
     },
     "execution_count": 167,
     "metadata": {},
     "output_type": "execute_result"
    }
   ],
   "source": [
    "# passo 7 n=6 -> Hn; qn; Qn; hfn\n",
    "h6 = h5 + hf5\n",
    "q6 = k * h6 ** x\n",
    "Q6 = Q5 + q6\n",
    "hf6 = k1 * Q6 ** 1.75\n",
    "\n",
    "print(round(h6, 2), 'm')\n",
    "print(round(q6, 2), 'l/h')\n",
    "print(round(Q6, 2), 'l/h')\n",
    "print(round(hf6, 3), 'm')\n",
    "hf6"
   ]
  },
  {
   "cell_type": "code",
   "execution_count": 168,
   "metadata": {},
   "outputs": [
    {
     "data": {
      "text/plain": [
       "22.693189487433415"
      ]
     },
     "execution_count": 168,
     "metadata": {},
     "output_type": "execute_result"
    }
   ],
   "source": [
    "#Pressão máxima na cabeçeira da linha\n",
    "\n",
    "h7 = h6 + hf6\n",
    "Hcab = h7\n",
    "Hcab"
   ]
  },
  {
   "cell_type": "code",
   "execution_count": 175,
   "metadata": {},
   "outputs": [
    {
     "name": "stdout",
     "output_type": "stream",
     "text": [
      "97 %\n"
     ]
    }
   ],
   "source": [
    "import numpy as np\n",
    "\n",
    "# coeficiente de uniformidade\n",
    "\n",
    "vz = [q1, q2, q3, q4, q5, q6]\n",
    "desvio_padrao = np.std(vz)\n",
    "dq = desvio_padrao\n",
    "qtm = sum(vz) / len(vz)\n",
    "\n",
    "cv = dq / qtm\n",
    "cue = (1 - cv) * 100\n",
    "\n",
    "print(int(cue),'%')"
   ]
  }
 ],
 "metadata": {
  "kernelspec": {
   "display_name": "Python 3",
   "language": "python",
   "name": "python3"
  },
  "language_info": {
   "codemirror_mode": {
    "name": "ipython",
    "version": 3
   },
   "file_extension": ".py",
   "mimetype": "text/x-python",
   "name": "python",
   "nbconvert_exporter": "python",
   "pygments_lexer": "ipython3",
   "version": "3.12.4"
  }
 },
 "nbformat": 4,
 "nbformat_minor": 2
}
