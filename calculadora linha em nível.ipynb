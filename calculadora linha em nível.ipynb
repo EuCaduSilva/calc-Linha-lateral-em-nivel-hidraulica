{
 "cells": [
  {
   "cell_type": "code",
   "execution_count": 243,
   "metadata": {},
   "outputs": [],
   "source": [
    "# Pressão média de trabalho em metros (m)\n",
    "Hm = 20\n",
    "\n",
    "# Espaçamento em metro (m)\n",
    "s = 3.4\n",
    "\n",
    "# diamentro interno do tubo em milímetros (mm)\n",
    "di = 16"
   ]
  },
  {
   "cell_type": "code",
   "execution_count": 244,
   "metadata": {},
   "outputs": [
    {
     "name": "stdout",
     "output_type": "stream",
     "text": [
      "129.85 l/h\n"
     ]
    }
   ],
   "source": [
    "# Expoente de descarga (x) , Equação do emissor e vazão na pressão de trabalho (qm)\n",
    "\n",
    "k = 26.082\n",
    "x = 0.5358 \n",
    "\n",
    "qm = (k * Hm ** x)\n",
    "\n",
    "print(round(qm, 2), ('l/h'))"
   ]
  },
  {
   "cell_type": "code",
   "execution_count": 245,
   "metadata": {},
   "outputs": [
    {
     "name": "stdout",
     "output_type": "stream",
     "text": [
      "3.73 m\n"
     ]
    }
   ],
   "source": [
    "#Perda de carga admissível máxima (10%) em metros(m)\n",
    "\n",
    "hfmax = 0.1 * Hm/x \n",
    "\n",
    "print(round(hfmax, 2), 'm')"
   ]
  },
  {
   "cell_type": "code",
   "execution_count": 246,
   "metadata": {},
   "outputs": [
    {
     "data": {
      "text/plain": [
       "0.364"
      ]
     },
     "execution_count": 246,
     "metadata": {},
     "output_type": "execute_result"
    }
   ],
   "source": [
    "# Fator de correção aproximado -> Tubo de Polietileno liso m = 1.75\n",
    "\n",
    "m = 1.75 \n",
    "Fce = 1 / (m + 1)\n",
    "\n",
    "round(Fce, 3)"
   ]
  },
  {
   "cell_type": "code",
   "execution_count": 247,
   "metadata": {},
   "outputs": [
    {
     "name": "stdout",
     "output_type": "stream",
     "text": [
      "36.46 m\n"
     ]
    }
   ],
   "source": [
    "# Comprimento Máximo teórico\n",
    "\n",
    "L = (( hfmax /(46.5 * 10 ** -2)) * (( s / qm) ** 1.75 )* ((di ** 4.75)/ Fce)) ** (1 / 2.75)\n",
    "\n",
    "print(round(L, 2),'m')"
   ]
  },
  {
   "cell_type": "code",
   "execution_count": 248,
   "metadata": {},
   "outputs": [
    {
     "name": "stdout",
     "output_type": "stream",
     "text": [
      "10 emissores\n",
      "( 10.724085117838467 )\n"
     ]
    }
   ],
   "source": [
    "# Ajuste do espaçamento e número de emissores (n) \n",
    "\n",
    "n = int(L / s)\n",
    "ni = L / s\n",
    "\n",
    "print(n, 'emissores'),\n",
    "print('(', ni, ')')"
   ]
  },
  {
   "cell_type": "code",
   "execution_count": 249,
   "metadata": {},
   "outputs": [
    {
     "name": "stdout",
     "output_type": "stream",
     "text": [
      "34.0 m\n"
     ]
    }
   ],
   "source": [
    "# Comprimento ajustado em metros (m)\n",
    "\n",
    "La = n * s\n",
    "print(La, 'm')"
   ]
  },
  {
   "cell_type": "code",
   "execution_count": 250,
   "metadata": {},
   "outputs": [
    {
     "data": {
      "text/plain": [
       "0.416"
      ]
     },
     "execution_count": 250,
     "metadata": {},
     "output_type": "execute_result"
    }
   ],
   "source": [
    "# fator de correção ajustado\n",
    "\n",
    "Fca = 1 / (m + 1) + 1 / (2 * n) + ((m + 1) ** (1/2))/(6 * n ** 2)\n",
    "round(Fca, 3)"
   ]
  },
  {
   "cell_type": "code",
   "execution_count": 251,
   "metadata": {},
   "outputs": [
    {
     "name": "stdout",
     "output_type": "stream",
     "text": [
      "3.53 m\n"
     ]
    }
   ],
   "source": [
    "# perda de carga para comprimento ajustado\n",
    "hfla = 46.5 * 10 ** (-2) * ((qm / s) ** 1.75) * (di ** (-4.75)) * (La ** 2.75 ) * Fca\n",
    "print(round(hfla, 2), 'm')"
   ]
  },
  {
   "cell_type": "code",
   "execution_count": 252,
   "metadata": {},
   "outputs": [
    {
     "name": "stdout",
     "output_type": "stream",
     "text": [
      "9.45 %\n"
     ]
    }
   ],
   "source": [
    "# perda de carga localizada\n",
    "p = hfla * x / Hm\n",
    "pp = p * 100\n",
    "print(round(pp,2), '%')"
   ]
  },
  {
   "cell_type": "code",
   "execution_count": 253,
   "metadata": {},
   "outputs": [
    {
     "name": "stdout",
     "output_type": "stream",
     "text": [
      "h0 22.74 m\n",
      "h1 19.0 m\n",
      "k1 1.1825539176958104e-05\n"
     ]
    }
   ],
   "source": [
    "# Step-by-step -> Back Step\n",
    "# passo 1\n",
    "h0 = Hm + ((m + 1)/(m + 2) * hfmax)\n",
    "\n",
    "h1 = h0 - hfmax\n",
    "\n",
    "k1 = 46.5 * 10 ** (-2) * (12 ** (-4.75)) * (s)\n",
    "\n",
    "print('h0',round(H0, 2),'m')\n",
    "print('h1',round(h1, 2),'m')\n",
    "print('k1', k1)"
   ]
  },
  {
   "cell_type": "code",
   "execution_count": 254,
   "metadata": {},
   "outputs": [
    {
     "name": "stdout",
     "output_type": "stream",
     "text": [
      "126.34 l/h\n",
      "126.34 l/h\n",
      "0.056 m\n"
     ]
    },
    {
     "data": {
      "text/plain": [
       "0.056304029929853026"
      ]
     },
     "execution_count": 254,
     "metadata": {},
     "output_type": "execute_result"
    }
   ],
   "source": [
    "# passo 2 n=1 -> q1; Q1; hf1\n",
    "q1 = k * h1 ** x\n",
    "Q1 = q1\n",
    "hf1 = k1 * Q1 ** 1.75\n",
    "\n",
    "print(round(q1, 2), 'l/h')\n",
    "print(round(Q1, 2), 'l/h')\n",
    "print(round(hf1, 3), 'm')\n",
    "hf1\n"
   ]
  },
  {
   "cell_type": "code",
   "execution_count": 255,
   "metadata": {},
   "outputs": [
    {
     "name": "stdout",
     "output_type": "stream",
     "text": [
      "19.06 m\n",
      "126.54 l/h\n",
      "252.89 l/h\n",
      "0.19 m\n"
     ]
    },
    {
     "data": {
      "text/plain": [
       "0.1896463723173731"
      ]
     },
     "execution_count": 255,
     "metadata": {},
     "output_type": "execute_result"
    }
   ],
   "source": [
    "# passo 3 n=2 -> Hn; qn; Qn; hfn\n",
    "h2 = h1 + hf1\n",
    "q2 = k * h2 ** x\n",
    "Q2 = q1 + q2\n",
    "hf2 = k1 * Q2 ** 1.75\n",
    "\n",
    "print(round(h2, 2), 'm')\n",
    "print(round(q2, 2), 'l/h')\n",
    "print(round(Q2, 2), 'l/h')\n",
    "print(round(hf2, 3), 'm')\n",
    "hf2"
   ]
  },
  {
   "cell_type": "code",
   "execution_count": 256,
   "metadata": {},
   "outputs": [
    {
     "name": "stdout",
     "output_type": "stream",
     "text": [
      "19.25 m\n",
      "127.22 l/h\n",
      "380.1 l/h\n",
      "0.387 m\n"
     ]
    },
    {
     "data": {
      "text/plain": [
       "0.3869474045047212"
      ]
     },
     "execution_count": 256,
     "metadata": {},
     "output_type": "execute_result"
    }
   ],
   "source": [
    "# passo 4 n=3 -> Hn; qn; Qn; hfn\n",
    "h3 = h2 + hf2\n",
    "q3 = k * h3 ** x\n",
    "Q3 = Q2 + q3\n",
    "hf3 = k1 * Q3 ** 1.75\n",
    "\n",
    "print(round(h3, 2), 'm')\n",
    "print(round(q3, 2), 'l/h')\n",
    "print(round(Q3, 2), 'l/h')\n",
    "print(round(hf3, 3), 'm')\n",
    "hf3"
   ]
  },
  {
   "cell_type": "code",
   "execution_count": 257,
   "metadata": {},
   "outputs": [
    {
     "name": "stdout",
     "output_type": "stream",
     "text": [
      "19.64 m\n",
      "128.58 l/h\n",
      "508.69 l/h\n",
      "0.644 m\n"
     ]
    },
    {
     "data": {
      "text/plain": [
       "0.6443290747875823"
      ]
     },
     "execution_count": 257,
     "metadata": {},
     "output_type": "execute_result"
    }
   ],
   "source": [
    "# passo 5 n=4 -> Hn; qn; Qn; hfn\n",
    "h4 = h3 + hf3\n",
    "q4 = k * h4 ** x\n",
    "Q4 = Q3 + q4\n",
    "hf4 = k1 * Q4 ** 1.75\n",
    "\n",
    "print(round(h4, 2), 'm')\n",
    "print(round(q4, 2), 'l/h')\n",
    "print(round(Q4, 2), 'l/h')\n",
    "print(round(hf4, 3), 'm')\n",
    "hf4"
   ]
  },
  {
   "cell_type": "code",
   "execution_count": 258,
   "metadata": {},
   "outputs": [
    {
     "name": "stdout",
     "output_type": "stream",
     "text": [
      "20.28 m\n",
      "130.82 l/h\n",
      "639.51 l/h\n",
      "0.962 m\n"
     ]
    },
    {
     "data": {
      "text/plain": [
       "0.9617319625272934"
      ]
     },
     "execution_count": 258,
     "metadata": {},
     "output_type": "execute_result"
    }
   ],
   "source": [
    "# passo 6 n=5 -> Hn; qn; Qn; hfn\n",
    "h5 = h4 + hf4\n",
    "q5 = k * h5 ** x\n",
    "Q5 = Q4 + q5\n",
    "hf5 = k1 * Q5 ** 1.75\n",
    "\n",
    "print(round(h5, 2), 'm')\n",
    "print(round(q5, 2), 'l/h')\n",
    "print(round(Q5, 2), 'l/h')\n",
    "print(round(hf5, 3), 'm')\n",
    "hf5"
   ]
  },
  {
   "cell_type": "code",
   "execution_count": 259,
   "metadata": {},
   "outputs": [
    {
     "name": "stdout",
     "output_type": "stream",
     "text": [
      "21.24 m\n",
      "134.11 l/h\n",
      "773.62 l/h\n",
      "1.342 m\n"
     ]
    },
    {
     "data": {
      "text/plain": [
       "1.3419832229058062"
      ]
     },
     "execution_count": 259,
     "metadata": {},
     "output_type": "execute_result"
    }
   ],
   "source": [
    "# passo 7 n=6 -> Hn; qn; Qn; hfn\n",
    "h6 = h5 + hf5\n",
    "q6 = k * h6 ** x\n",
    "Q6 = Q5 + q6\n",
    "hf6 = k1 * Q6 ** 1.75\n",
    "\n",
    "print(round(h6, 2), 'm')\n",
    "print(round(q6, 2), 'l/h')\n",
    "print(round(Q6, 2), 'l/h')\n",
    "print(round(hf6, 3), 'm')\n",
    "hf6"
   ]
  },
  {
   "cell_type": "code",
   "execution_count": 260,
   "metadata": {},
   "outputs": [
    {
     "data": {
      "text/plain": [
       "22.585545774823814"
      ]
     },
     "execution_count": 260,
     "metadata": {},
     "output_type": "execute_result"
    }
   ],
   "source": [
    "h7 = h6 + hf6\n",
    "h7"
   ]
  },
  {
   "cell_type": "code",
   "execution_count": 261,
   "metadata": {},
   "outputs": [
    {
     "name": "stdout",
     "output_type": "stream",
     "text": [
      "95 %\n"
     ]
    }
   ],
   "source": [
    "import numpy as np\n",
    "\n",
    "# coeficiente de uniformidade\n",
    "\n",
    "vz = [h1, h2, h3, h4, h5, h6]\n",
    "desvio_padrao = np.std(vz)\n",
    "dq = desvio_padrao\n",
    "qtm = sum(vz) / len(vz)\n",
    "cv = dq / qtm\n",
    "cue = (1 - cv) * 100\n",
    "\n",
    "print(int(cue),'%')"
   ]
  }
 ],
 "metadata": {
  "kernelspec": {
   "display_name": "Python 3",
   "language": "python",
   "name": "python3"
  },
  "language_info": {
   "codemirror_mode": {
    "name": "ipython",
    "version": 3
   },
   "file_extension": ".py",
   "mimetype": "text/x-python",
   "name": "python",
   "nbconvert_exporter": "python",
   "pygments_lexer": "ipython3",
   "version": "3.12.4"
  }
 },
 "nbformat": 4,
 "nbformat_minor": 2
}
